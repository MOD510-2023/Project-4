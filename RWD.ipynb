{
 "cells": [
  {
   "cell_type": "markdown",
   "metadata": {},
   "source": [
    "# **Random walking dead**"
   ]
  },
  {
   "cell_type": "code",
   "execution_count": null,
   "metadata": {},
   "outputs": [],
   "source": []
  },
  {
   "cell_type": "markdown",
   "metadata": {},
   "source": [
    "## **Description of the game**\n",
    "\n",
    "For this random walk approach, the scenario we shall consider is that of an isolated population in a restricted spatial area (lets say in the scary playground) where the walkers cannot go beyond the area. \n",
    "\n",
    "### **Characters**\n",
    "The two basic characters of this scenarios are **humans** and **zombies**. Humans are just normal walkers which their goal is to not get infected. Meanwhile, the zombies walk around in order to get all the humans infected. Zombies can die according to the life expectancy percentage. However, there are some walkers that have some especial attributes/abilities that can change the whole dynamic.\n",
    "\n",
    "#### **Vampire**\n",
    "Vampire is the most creature in this scenario. Rather than just infecting, vampires kills everything that is not a zombie. What is so special about this character is that the vampire has an mobility advantage, as he moves twice the steps as normal.\n",
    "\n",
    "#### **Hunter**\n",
    "Hunter goal is to protect the humans from zombies and vampires. It is the only character that can kill a vampire, so they would go in a duel (they share the same probability of executing). An important detail about hunter is that if he misses the shot against the zombies, the zombie could infect the hunter as a counter attack.\n",
    "\n",
    "#### **Immune**\n",
    "These walkers are not affected by any infection from zombies, as long as this scenario will last. However, they can be killed by the vampires.\n",
    "\n",
    "#### **Healer**\n",
    "These are the saviours of the game. Healers make the zombies turning into a human, regardless of how high is the percentage of the infection. Keep in mind that a healer could also be killed by vampire.\n",
    "\n",
    "There is a state also called **dead**, where the walker does not move or affect in any aspect of the game."
   ]
  },
  {
   "cell_type": "markdown",
   "metadata": {},
   "source": [
    "## Libraries"
   ]
  },
  {
   "cell_type": "code",
   "execution_count": 189,
   "metadata": {},
   "outputs": [],
   "source": [
    "import numpy as np\n",
    "import matplotlib.pyplot as plt\n",
    "\n",
    "from enum import Enum # Importing the enum"
   ]
  },
  {
   "cell_type": "markdown",
   "metadata": {},
   "source": [
    "## Directions"
   ]
  },
  {
   "cell_type": "code",
   "execution_count": 2,
   "metadata": {},
   "outputs": [],
   "source": [
    "class Direction(Enum):\n",
    "\n",
    "    EAST = 1\n",
    "    NORTH = 2\n",
    "    WEST = 3\n",
    "    SOUTH = 4"
   ]
  },
  {
   "cell_type": "markdown",
   "metadata": {},
   "source": [
    "## Disease State"
   ]
  },
  {
   "cell_type": "code",
   "execution_count": 9,
   "metadata": {},
   "outputs": [],
   "source": [
    "class DiseaseState(Enum):\n",
    "\n",
    "    HUMAN = 0 # SUSCEPTIBLE = HUMAN\n",
    "    IMMUNE = 1\n",
    "    ZOMBIE = 2 #INFECTIOUS = ZOMBIE\n",
    "    HEALER = 3\n",
    "    DEAD = 4\n",
    "    HUNTER = 5\n",
    "    VAMPIRE = 6"
   ]
  },
  {
   "cell_type": "markdown",
   "metadata": {},
   "source": [
    "## Random Walk Epidemic Simulator class"
   ]
  },
  {
   "cell_type": "code",
   "execution_count": 204,
   "metadata": {},
   "outputs": [],
   "source": [
    "class RandomWalkEpidemicSimulator:\n",
    "    \"\"\"\n",
    "    Class used to model the spreading of a contagious disease in a\n",
    "    population of individuals with a 2D random walk.\n",
    "\n",
    "    Each walker has a disease state which is represented by an\n",
    "    integer Enum. Also, a set of integer (x, y)-coordinates are\n",
    "    stored for each walker. The possible coordinates are:\n",
    "\n",
    "        {0, 1, ..., Lx-1} in the x-direction\n",
    "        {0, 1, ..., Ly-1} in the y-direction\n",
    "\n",
    "    It is only possible to move North, South, East, or West. If a\n",
    "    walker attempts to move outside of the physical domain, nothing\n",
    "    happens (i.e., a \"bounce-back boundary condition\" is enforced).\n",
    "    \"\"\"\n",
    "    def __init__(self,\n",
    "                 population_size,\n",
    "                 no_initially_infected=1,\n",
    "                 no_immune=0,\n",
    "                 no_hunter = 0,\n",
    "                 no_vampire = 0,\n",
    "                 no_healer = 0,\n",
    "                 nx=50,\n",
    "                 ny=50,\n",
    "                 q=0.9,\n",
    "                 p = 0.0,\n",
    "                 k = 0.0,\n",
    "                 gameshow=False):\n",
    "        \"\"\"\n",
    "        :param population_size: The total number of people (N).\n",
    "        :param no_init_infected: The number of infected people at t=0.\n",
    "        :param no_immune: The number of immune people.\n",
    "        :param no_hunter: The number of hunters.\n",
    "        :param no_vampire: The number of vampires.\n",
    "        :param no_healer: The number of healers.\n",
    "        :param nx: The number of lattice nodes in the x-direction\n",
    "        :param ny: The number of lattice nodes in the y-direction.\n",
    "        :param q: The probability of infection (0 <= q <= 1).\n",
    "        :param p: The probability of death (0 <= p <= 1).\n",
    "        :param k: The probability of execution (0 <= k <= 1).\n",
    "        :gameshow: It enables/disables the graph of the walkers.\n",
    "        \"\"\"\n",
    "        self.N_ = population_size\n",
    "        self.Z0_= no_initially_infected # No. of Zombies that are starting\n",
    "        self.I_= no_immune # No. of Immune People\n",
    "        self.H_= no_hunter # No. of Hunters\n",
    "        self.V_ = no_vampire #No. of Vampires\n",
    "        self.HL_ = no_healer #No. of Healers\n",
    "\n",
    "        self.nx_= nx\n",
    "        self.ny_= ny\n",
    "\n",
    "        self.infection_probability_ = q\n",
    "        self.death_probability_ = p\n",
    "        self.execution_probability_ = k\n",
    "\n",
    "        self.gameshow = gameshow\n",
    "\n",
    "\n",
    "        self.Walkers_ = np.random.randint(0, [self.nx_, self.ny_], size=(self.N_, 2))\n",
    "        self.Walkers_Old_ = self.Walkers_.copy() # in case any move is illegall, we have a old steps\n",
    "\n",
    "        # First, let all walkers be in the susceptible compartment:\n",
    "        self.State_ = np.full(self.N_, DiseaseState.HUMAN.value)\n",
    "        # Next, change walker to be infectious:\n",
    "        self.State_[0:self.Z0_] = DiseaseState.ZOMBIE.value\n",
    "        # Next, change walker to be immune:\n",
    "        self.State_[self.Z0_:self.Z0_ + self.I_] = DiseaseState.IMMUNE.value\n",
    "        # Next, change walker to be hunter:\n",
    "        self.State_[self.Z0_ + self.I_:self.Z0_ + self.I_ + self.H_] = DiseaseState.HUNTER.value\n",
    "        # Next, change walker to be vampire:\n",
    "        self.State_[self.Z0_ + self.I_ + self.H_:self.Z0_ + self.I_ + self.H_ + self.V_] = DiseaseState.VAMPIRE.value\n",
    "        # Next, change walker to be healer:\n",
    "        self.State_[self.Z0_ + self.I_ + self.H_ + self.V_:self.Z0_ + self.I_ + self.H_ + self.V_ + self.HL_] = DiseaseState.HEALER.value\n",
    "\n",
    "        # Records\n",
    "        self.record_humans = np.array([])\n",
    "        self.record_zombies = np.array([])\n",
    "        self.record_deads = np.array([])\n",
    "        self.record_immune = np.array([])\n",
    "        self.record_hunter = np.array([])\n",
    "        self.record_vampire = np.array([])\n",
    "        self.record_healer = np.array([])\n",
    "\n",
    "        \n",
    "\n",
    "    def move(self):\n",
    "        \"\"\"\n",
    "        This function allows the walkers to change their position\n",
    "        \"\"\"\n",
    "        \n",
    "        proposed_directions=np.random.randint(0,4,size=self.N_) #The directions will be choosen randomly for all the walkers.\n",
    "        \n",
    "        # Directions\n",
    "        move_east = (proposed_directions == Direction.EAST.value)\n",
    "        move_north = (proposed_directions == Direction.NORTH.value)\n",
    "        move_west = (proposed_directions == Direction.WEST.value)\n",
    "        move_south = (proposed_directions == Direction.SOUTH.value)\n",
    "\n",
    "        # This will only allow Walkers that are not dead to walk\n",
    "        not_dead = (self.State_ != DiseaseState.DEAD.value)\n",
    "\n",
    "        # This will allow the Vampires walk the twice steps as normal people\n",
    "        vampire = (self.State_ == DiseaseState.VAMPIRE.value)\n",
    "        not_vampire = (self.State_ != DiseaseState.VAMPIRE.value)\n",
    "\n",
    "\n",
    "        self.Walkers_[move_east & not_dead & not_vampire] += [1, 0]\n",
    "        self.Walkers_[move_north & not_dead & not_vampire] += [0, 1]\n",
    "        self.Walkers_[move_west & not_dead & not_vampire] -= [1, 0]\n",
    "        self.Walkers_[move_south & not_dead & not_vampire] -= [0, 1]\n",
    "\n",
    "        self.Walkers_[move_east & not_dead & vampire] += [2, 0]\n",
    "        self.Walkers_[move_north & not_dead & vampire] += [0, 2]\n",
    "        self.Walkers_[move_west & not_dead & vampire] -= [2, 0]\n",
    "        self.Walkers_[move_south & not_dead & vampire] -= [0, 2]\n",
    "\n",
    "    def is_at_illegal_position(self):\n",
    "        \"\"\"\n",
    "        Checks if it is out of position\n",
    "        \"\"\"\n",
    "        wrong_x=np.logical_or(self.Walkers_[:,0]<0,self.Walkers_[:,0]>=self.nx_)\n",
    "        wrong_y=np.logical_or(self.Walkers_[:,1]<0,self.Walkers_[:,1]>=self.ny_)\n",
    "        wrong_xy=np.logical_or(wrong_x,wrong_y)\n",
    "        self.Walkers_[wrong_xy]=self.Walkers_Old_[wrong_xy]\n",
    "        \n",
    "        self.Walkers_Old_=np.copy(self.Walkers_)\n",
    "\n",
    "    \n",
    "\n",
    "\n",
    "    def collide_and_heal(self):\n",
    "        '''\n",
    "        Calculates interaction between Zombies and Walkers (class implementation)\n",
    "        '''\n",
    "        Z_coord = self.Walkers_[self.State_ == DiseaseState.ZOMBIE.value]\n",
    "        zombies_idx = np.where(self.State_ == DiseaseState.ZOMBIE.value)[0]\n",
    "\n",
    "        for z_coord, z_idx in zip(Z_coord, zombies_idx): # loop over all zombies\n",
    "            #print(z_idx)\n",
    "            # compare x and y coordinate of one zombie and all Walkers to\n",
    "            # find which are in the same place\n",
    "            infected_at_same_location_xy = np.logical_and(z_coord[0]==self.Walkers_[:,0],z_coord[1]==self.Walkers_[:,1])\n",
    "            \n",
    "            # infected_at_same_location_xy contains a list of True/False of all\n",
    "            # Walkers at the same/not the same place (both Humans and Zombies)\n",
    "            # get the index to the Walkers, needed to update state (note the [0] at the end)\n",
    "            id_walkers_at_same_location = np.where(infected_at_same_location_xy)[0]\n",
    "            for walkers_id in id_walkers_at_same_location:\n",
    "                if self.State_[walkers_id] == DiseaseState.HUMAN.value:\n",
    "                    q = np.random.uniform(0, 1)\n",
    "                    if q < self.infection_probability_:\n",
    "                        self.State_[walkers_id] = DiseaseState.ZOMBIE.value\n",
    "                elif self.State_[walkers_id] == DiseaseState.HEALER.value:\n",
    "                    self.State_[z_idx] = DiseaseState.HUMAN.value\n",
    "\n",
    "\n",
    "    def check_if_zombies_dies(self):\n",
    "        # Find the index of the Zombies\n",
    "        # Loop through it \n",
    "        zombies_idx = np.where(self.State_ == DiseaseState.ZOMBIE.value)\n",
    "        for idx in zombies_idx: # loop over all zombies\n",
    "                p = np.random.uniform(0, 1)\n",
    "                if p < self.death_probability_:\n",
    "                    self.State_[idx] = DiseaseState.DEAD.value\n",
    "\n",
    "    def execution(self):\n",
    "        '''\n",
    "        Calculates interaction between Hunters/Vampires and Walkers (class implementation)\n",
    "        '''\n",
    "        E_coord = self.Walkers_[(self.State_ == DiseaseState.HUNTER.value) | (self.State_ == DiseaseState.VAMPIRE.value)]\n",
    "        executers_idx = np.where((self.State_ == DiseaseState.HUNTER.value) | (self.State_ == DiseaseState.VAMPIRE.value))[0]\n",
    "\n",
    "        # compare x and y coordinate of one hunter/vampire and all Walkers to\n",
    "        # find which are in the same place\n",
    "        for e_coord, e_idx in zip(E_coord, executers_idx):\n",
    "            executers_at_same_location_xy = np.logical_and(e_coord[0]==self.Walkers_[:,0],e_coord[1]==self.Walkers_[:,1])\n",
    "            \n",
    "            # executers_at_same_location_xy contains a list of True/False of all\n",
    "            # Walkers at the same/not the same place (both Hunters/Vampire and rest)\n",
    "            # get the index to the Walkers, needed to update state (note the [0] at the end)\n",
    "            id_walkers_at_same_location = np.where(executers_at_same_location_xy)[0]\n",
    "\n",
    "            for walkers_id in id_walkers_at_same_location:\n",
    "\n",
    "                # Hunter\n",
    "                if self.State_[e_idx] == DiseaseState.HUNTER.value:\n",
    "                    # Vampire in the same place\n",
    "                    if self.State_[walkers_id] == DiseaseState.VAMPIRE.value:\n",
    "                        hk = np.random.uniform(0, 1) # probability for Hunter\n",
    "                        vk = np.random.uniform(0, 1) # probability for Vampire\n",
    "\n",
    "                        # Whoever gets the lower rate, dies\n",
    "                        if hk > vk:\n",
    "                            self.State_[walkers_id] = DiseaseState.DEAD.value\n",
    "                        elif hk < vk:\n",
    "                            self.State_[e_idx] = DiseaseState.DEAD.value\n",
    "                    \n",
    "                    # Zombie at the same place\n",
    "                    elif self.State_[walkers_id] == DiseaseState.ZOMBIE.value:\n",
    "                        k = np.random.uniform(0, 1)\n",
    "                        # the hunter targets the shot\n",
    "                        if k < self.execution_probability_:\n",
    "                            self.State_[walkers_id] = DiseaseState.DEAD.value\n",
    "                        # the hunter misses the shot\n",
    "                        else:\n",
    "                            # chance for Zombie to counter attack\n",
    "                            q = np.random.uniform(0, 1)\n",
    "                            if q < self.infection_probability_:\n",
    "                                self.State_[walkers_id] = DiseaseState.ZOMBIE.value\n",
    "\n",
    "                    \n",
    "                    # Human, Immune, Hunter and Healer get skipped\n",
    "                    else:\n",
    "                        pass\n",
    "                \n",
    "                # Vampire\n",
    "                elif self.State_[e_idx] == DiseaseState.VAMPIRE.value:\n",
    "                    # Hunter  in the same place\n",
    "                    if self.State_[walkers_id] == DiseaseState.HUNTER.value:\n",
    "                        hk = np.random.uniform(0, 1) # probability for Hunter\n",
    "                        vk = np.random.uniform(0, 1) # probability for Vampire\n",
    "\n",
    "                        # Whoever gets the lower rate, dies\n",
    "                        if hk > vk:\n",
    "                            self.State_[e_idx] = DiseaseState.DEAD.value\n",
    "                        elif hk < vk:\n",
    "                            self.State_[walkers_id] = DiseaseState.DEAD.value\n",
    "\n",
    "                    # Human/Healer at the same place\n",
    "                    elif self.State_[walkers_id] == DiseaseState.HUMAN.value or self.State_[walkers_id] == DiseaseState.HEALER.value or self.State_[walkers_id] == DiseaseState.IMMUNE.value:\n",
    "                        k = np.random.uniform(0, 1)\n",
    "                        if k < self.execution_probability_:\n",
    "                            self.State_[walkers_id] = DiseaseState.DEAD.value\n",
    "\n",
    "                    # Zombie, Immune and Vampire get skiped\n",
    "                    else:\n",
    "                        pass\n",
    "\n",
    "\n",
    "                \n",
    "\n",
    "    def game(self):\n",
    "        Z_coord= self.Walkers_[self.State_== DiseaseState.ZOMBIE.value]\n",
    "        H_coord= self.Walkers_[self.State_==DiseaseState.HUMAN.value]\n",
    "        D_coord = self.Walkers_[self.State_==DiseaseState.DEAD.value]\n",
    "        I_coord = self.Walkers_[self.State_==DiseaseState.IMMUNE.value]\n",
    "        HU_coord = self.Walkers_[self.State_==DiseaseState.HUNTER.value]\n",
    "        V_coord = self.Walkers_[self.State_==DiseaseState.VAMPIRE.value]\n",
    "        HL_coord = self.Walkers_[self.State_==DiseaseState.HEALER.value]\n",
    "        plt.scatter(Z_coord[:,0],Z_coord[:,1],s=80,c='r')\n",
    "        plt.scatter(H_coord[:,0],H_coord[:,1],c='b')\n",
    "        plt.scatter(D_coord[:,0],D_coord[:,1], marker='s', c='k')\n",
    "        plt.scatter(I_coord[:,0],I_coord[:,1], marker='d', c='y')\n",
    "        plt.scatter(HU_coord[:,0],HU_coord[:,1], marker='*', c='orange')\n",
    "        plt.scatter(V_coord[:,0],V_coord[:,1], marker='p', c='purple')\n",
    "        plt.scatter(HL_coord[:,0],HL_coord[:,1], marker='P', c='g')\n",
    "        plt.xlim(0,self.nx_)\n",
    "        plt.ylim(0,self.ny_)\n",
    "        plt.grid()\n",
    "        #plt.show()\n",
    "\n",
    "    def record(self):\n",
    "        no_susceptible = np.sum(self.State_ == DiseaseState.HUMAN.value)\n",
    "        no_infectious = np.sum(self.State_ == DiseaseState.ZOMBIE.value)\n",
    "        no_recovered = np.sum(self.State_ == DiseaseState.DEAD.value)\n",
    "        no_immune = np.sum(self.State_ == DiseaseState.IMMUNE.value)\n",
    "        no_hunter = np.sum(self.State_ == DiseaseState.HUNTER.value)\n",
    "        no_vampire = np.sum(self.State_ == DiseaseState.VAMPIRE.value)\n",
    "        no_healer = np.sum(self.State_ == DiseaseState.HEALER.value)\n",
    "\n",
    "        self.record_humans = np.append(self.record_humans, no_susceptible)\n",
    "        self.record_zombies = np.append(self.record_zombies, no_infectious)\n",
    "        self.record_deads = np.append(self.record_deads, no_recovered)\n",
    "        self.record_immune = np.append(self.record_immune, no_immune)\n",
    "        self.record_hunter = np.append(self.record_hunter, no_hunter)\n",
    "        self.record_vampire = np.append(self.record_vampire, no_vampire)\n",
    "        self.record_healer = np.append(self.record_healer, no_healer)\n",
    "        \n",
    "\n",
    "    \n",
    "    def run(self, steps):\n",
    "        for s in range(steps):\n",
    "            if self.gameshow == True:\n",
    "                self.game()\n",
    "            self.record()\n",
    "            self.move()\n",
    "            self.is_at_illegal_position()\n",
    "            self.collide_and_heal()\n",
    "            self.check_if_zombies_dies()\n",
    "            self.execution()\n",
    "\n",
    "\n",
    "    def stats(self):\n",
    "        \"\"\"\n",
    "        It shows the statistics of humans, zombies and deaths\n",
    "        \"\"\"\n",
    "        new_line = \"\\n\"\n",
    "\n",
    "        no_susceptible = np.sum(self.State_ == DiseaseState.HUMAN.value)\n",
    "        no_infectious = np.sum(self.State_ == DiseaseState.ZOMBIE.value)\n",
    "        no_recovered = np.sum(self.State_ == DiseaseState.DEAD.value)\n",
    "        no_immune = np.sum(self.State_ == DiseaseState.IMMUNE.value)\n",
    "        no_hunter = np.sum(self.State_ == DiseaseState.HUNTER.value)\n",
    "        no_vampire = np.sum(self.State_ == DiseaseState.VAMPIRE.value)\n",
    "        no_heal = np.sum(self.State_ == DiseaseState.HEALER.value)\n",
    "\n",
    "        print(f\"Susceptibles: {no_susceptible}{new_line}Infectious: {no_infectious}{new_line}Recovered: {no_recovered}{new_line}Immune: {no_immune}{new_line}Hunter: {no_hunter}{new_line}Vampire: {no_vampire}{new_line}Healer: {no_heal}\")"
   ]
  },
  {
   "cell_type": "markdown",
   "metadata": {},
   "source": [
    "# Scenarios"
   ]
  },
  {
   "cell_type": "markdown",
   "metadata": {},
   "source": [
    "1 time step = 1 hour"
   ]
  },
  {
   "cell_type": "code",
   "execution_count": 242,
   "metadata": {},
   "outputs": [],
   "source": [
    "day = 24\n",
    "week = day * 7\n",
    "month = week * 4"
   ]
  },
  {
   "cell_type": "markdown",
   "metadata": {},
   "source": [
    "## Scenario 1: Headless chickens\n",
    "\n",
    "This is a scenario where the 40 humans run away from 10 zombies. This will last 3 days"
   ]
  },
  {
   "cell_type": "code",
   "execution_count": 245,
   "metadata": {},
   "outputs": [
    {
     "data": {
      "image/png": "[encoded data removed]",
      "text/plain": [
       "<Figure size 1500x400 with 2 Axes>"
      ]
     },
     "metadata": {},
     "output_type": "display_data"
    }
   ],
   "source": [
    "scenario01 = RandomWalkEpidemicSimulator(50, 10)\n",
    "n = 3 * day\n",
    "\n",
    "plt.figure(figsize=(15,4))\n",
    "plt.suptitle(f\"{n} Hours\")\n",
    "\n",
    "plt.subplot(1, 2, 1)\n",
    "plt.title(\"Beginning\")\n",
    "scenario01.game()\n",
    "\n",
    "scenario01.run(n)\n",
    "\n",
    "plt.subplot(1,2,2)\n",
    "plt.title(\"End\")\n",
    "scenario01.game()\n"
   ]
  },
  {
   "cell_type": "code",
   "execution_count": 246,
   "metadata": {},
   "outputs": [
    {
     "name": "stdout",
     "output_type": "stream",
     "text": [
      "Susceptibles: 27\n",
      "Infectious: 23\n",
      "Recovered: 0\n",
      "Immune: 0\n",
      "Hunter: 0\n",
      "Vampire: 0\n",
      "Healer: 0\n"
     ]
    }
   ],
   "source": [
    "scenario01.stats()"
   ]
  },
  {
   "cell_type": "markdown",
   "metadata": {},
   "source": []
  },
  {
   "cell_type": "markdown",
   "metadata": {},
   "source": [
    "## Scenario 2: Disadvantage for Humans\n",
    "\n",
    "This scenario its going to be flipped relatated to the previous on."
   ]
  },
  {
   "cell_type": "code",
   "execution_count": 249,
   "metadata": {},
   "outputs": [
    {
     "data": {
      "image/png": "[encoded data removed]",
      "text/plain": [
       "<Figure size 1500x400 with 2 Axes>"
      ]
     },
     "metadata": {},
     "output_type": "display_data"
    }
   ],
   "source": [
    "scenario02 = RandomWalkEpidemicSimulator(50, 40)\n",
    "\n",
    "\n",
    "plt.figure(figsize=(15,4))\n",
    "plt.suptitle(f\"{n} Hours\")\n",
    "\n",
    "plt.subplot(1, 2, 1)\n",
    "plt.title(\"Beginning\")\n",
    "scenario02.game()\n",
    "\n",
    "scenario02.run(n)\n",
    "\n",
    "plt.subplot(1,2,2)\n",
    "plt.title(\"End\")\n",
    "scenario02.game()"
   ]
  },
  {
   "cell_type": "code",
   "execution_count": 250,
   "metadata": {},
   "outputs": [
    {
     "name": "stdout",
     "output_type": "stream",
     "text": [
      "Susceptibles: 3\n",
      "Infectious: 47\n",
      "Recovered: 0\n",
      "Immune: 0\n",
      "Hunter: 0\n",
      "Vampire: 0\n",
      "Healer: 0\n"
     ]
    }
   ],
   "source": [
    "scenario02.stats()"
   ]
  },
  {
   "cell_type": "markdown",
   "metadata": {},
   "source": [
    "According to the map graph, it becomes easier for zombies to infest humans, due to the large number of zombies"
   ]
  }
 ],
 "metadata": {
  "kernelspec": {
   "display_name": "MOD510",
   "language": "python",
   "name": "python3"
  },
  "language_info": {
   "codemirror_mode": {
    "name": "ipython",
    "version": 3
   },
   "file_extension": ".py",
   "mimetype": "text/x-python",
   "name": "python",
   "nbconvert_exporter": "python",
   "pygments_lexer": "ipython3",
   "version": "3.11.4"
  },
  "orig_nbformat": 4
 },
 "nbformat": 4,
 "nbformat_minor": 2
}
